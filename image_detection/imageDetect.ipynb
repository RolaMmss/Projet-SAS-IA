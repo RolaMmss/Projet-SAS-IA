{
 "cells": [
  {
   "cell_type": "markdown",
   "metadata": {},
   "source": [
    "Hello world! \n",
    "This API offers the service of image recognition.\n",
    "It takes an image as input and returns predictions."
   ]
  },
  {
   "cell_type": "code",
   "execution_count": 2,
   "metadata": {},
   "outputs": [],
   "source": [
    "import requests "
   ]
  },
  {
   "cell_type": "code",
   "execution_count": 3,
   "metadata": {},
   "outputs": [],
   "source": [
    "url=\"https://api.everypixel.com/v1\""
   ]
  },
  {
   "cell_type": "code",
   "execution_count": 4,
   "metadata": {},
   "outputs": [],
   "source": [
    "client_id =  \"WGY8DrcNMzq6vr4JYFoGioeB\"\n",
    "client_secret = \"5eXqCyrmyprhZ4P0JYtV6Psdd1gqzuric2U5Ejn7oW4VGjPz\""
   ]
  },
  {
   "cell_type": "markdown",
   "metadata": {},
   "source": [
    "**keywords**\n",
    "\n",
    "By sending an image to this method you can get a list of suggested keywords. You may specify a number of returned words or a threshold of its minimum score. Just provide num_keywords or threshold parameter to this method.\n",
    "Image should be specified by its url or uploaded with multipart form by parameter 'data'. You should use, respectively, GET and POST methods."
   ]
  },
  {
   "cell_type": "code",
   "execution_count": 8,
   "metadata": {},
   "outputs": [
    {
     "name": "stdout",
     "output_type": "stream",
     "text": [
      "{'keywords': [{'keyword': 'dog', 'score': 0.9995168915301191}, {'keyword': 'cute', 'score': 0.9982172852893262}, {'keyword': 'pets', 'score': 0.9978472569830052}, {'keyword': 'outdoors', 'score': 0.9941507770726862}, {'keyword': 'puppy', 'score': 0.9925032045488535}, {'keyword': 'animal', 'score': 0.9846657135578878}, {'keyword': 'retriever', 'score': 0.9815859241861788}, {'keyword': 'purebred dog', 'score': 0.9559541128267169}, {'keyword': 'friendship', 'score': 0.9403813340439529}, {'keyword': 'young animal', 'score': 0.9189107447433211}], 'status': 'ok'}\n"
     ]
    }
   ],
   "source": [
    "params = {'url': 'https://images.pexels.com/photos/1108099/pexels-photo-1108099.jpeg?auto=compress&cs=tinysrgb&w=1600', 'num_keywords': 10}\n",
    "keywords = requests.get('https://api.everypixel.com/v1/keywords', params=params, auth=(client_id, client_secret)).json()\n",
    "print(keywords)\n"
   ]
  },
  {
   "cell_type": "code",
   "execution_count": null,
   "metadata": {},
   "outputs": [],
   "source": [
    "with open('cats.jpeg','rb') as image:\n",
    "    data = {'data': image}\n",
    "    keywords = requests.post('https://api.everypixel.com/v1/keywords', files=data, auth=(client_id, client_secret)).json()\n"
   ]
  },
  {
   "cell_type": "markdown",
   "metadata": {},
   "source": [
    "**Quality**\n",
    "This method allows you to get the quality score for your photo. This service doesn't measure how cool or beautiful a person or an object on a photo may look. It cares only about technical parts like brightness, contrast, noise and so on. The service is not dedicated for scoring historical photos, illustrations or 3D visualizations.\n",
    "\n",
    "Image should be specified by its url or uploaded with multipart form by parameter 'data'. You should use, respectively, GET and POST methods."
   ]
  },
  {
   "cell_type": "code",
   "execution_count": 5,
   "metadata": {},
   "outputs": [
    {
     "name": "stdout",
     "output_type": "stream",
     "text": [
      "{'quality': {'score': 0.9975724816322327}, 'status': 'ok'}\n"
     ]
    }
   ],
   "source": [
    "params = {'url': 'http://image.everypixel.com/2014.12/67439828186edc79b9be81a4dedea8b03c09a12825b_b.jpg'}\n",
    "quality = requests.get('https://api.everypixel.com/v1/quality', params=params, auth=(client_id, client_secret)).json()\n",
    "\n",
    "with open('girl1.jpg','rb') as image:\n",
    "    data = {'data': image}\n",
    "    quality = requests.post('https://api.everypixel.com/v1/quality', files=data, auth=(client_id, client_secret)).json()\n",
    "\n",
    "print(quality) "
   ]
  },
  {
   "cell_type": "markdown",
   "metadata": {},
   "source": [
    "**Faces**\n",
    "\n",
    "This method allows you to find faces on your photo and estimate ages of them. The output is a list of estimated ages and bounding box coordinates of each face detected in the image. Also you will get confidence score of face recognition.\n",
    "\n",
    "Image should be specified by its url or uploaded with multipart form by parameter 'data'. You should use, respectively, GET and POST methods."
   ]
  },
  {
   "cell_type": "code",
   "execution_count": 6,
   "metadata": {},
   "outputs": [
    {
     "name": "stdout",
     "output_type": "stream",
     "text": [
      "{'faces': [{'bbox': [180.79522848749602, 256.8318342371061, 283.13096143241904, 399.1093376427449], 'score': 0.9999165534973145, 'age': 23.092751122952905, 'class': 'Age - Young Adult'}], 'status': 'ok'}\n"
     ]
    }
   ],
   "source": [
    "params = {'url': 'https://labs.everypixel.com/api/static/i/estest_sample3.jpg'}\n",
    "quality = requests.get('https://api.everypixel.com/v1/faces', params=params, auth=(client_id, client_secret)).json()\n",
    "\n",
    "with open('girl1.jpg','rb') as image:\n",
    "    data = {'data': image}\n",
    "    quality = requests.post('https://api.everypixel.com/v1/faces', files=data, auth=(client_id, client_secret)).json()\n",
    "\n",
    "print(quality)\n"
   ]
  }
 ],
 "metadata": {
  "kernelspec": {
   "display_name": "Python 3.10.6 ('notebook')",
   "language": "python",
   "name": "python3"
  },
  "language_info": {
   "codemirror_mode": {
    "name": "ipython",
    "version": 3
   },
   "file_extension": ".py",
   "mimetype": "text/x-python",
   "name": "python",
   "nbconvert_exporter": "python",
   "pygments_lexer": "ipython3",
   "version": "3.10.6"
  },
  "orig_nbformat": 4,
  "vscode": {
   "interpreter": {
    "hash": "02b44520b416af6af96f094e7a15a5250fce531791a672e7ce4cc5e8ce342b05"
   }
  }
 },
 "nbformat": 4,
 "nbformat_minor": 2
}
